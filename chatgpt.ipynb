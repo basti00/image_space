{
 "cells": [
  {
   "cell_type": "code",
   "execution_count": null,
   "metadata": {},
   "outputs": [],
   "source": [
    "# Initialize the probability matrix with the initial probabilities of each hidden state\n",
    "prob_matrix = [0.5, 0.5]\n",
    "\n",
    "# Define the transition probabilities between hidden states\n",
    "transition_probs = [[0.7, 0.3], [0.4, 0.6]]\n",
    "\n",
    "# Define the emission probabilities for each hidden state\n",
    "emission_probs = [[0.1, 0.4, 0.5], [0.6, 0.3, 0.1]]\n",
    "\n",
    "# Define the sequence of observed events\n",
    "observations = [1, 2, 1]\n",
    "\n",
    "# For each observation in the sequence, compute the probabilities of all possible\n",
    "# sequences of hidden states that could have generated that observation\n",
    "for obs in observations:\n",
    "    new_prob_matrix = []\n",
    "    for j in range(len(prob_matrix)):\n",
    "        prob = 0\n",
    "        for i in range(len(prob_matrix)):\n",
    "            prob += prob_matrix[i] * transition_probs[i][j] * emission_probs[j][obs]\n",
    "        new_prob_matrix.append(prob)\n",
    "    prob_matrix = new_prob_matrix\n",
    "\n",
    "# The final probability matrix contains the probabilities of all possible sequences\n",
    "# of hidden states that could have generated the observed sequence\n",
    "print(prob_matrix)"
   ]
  }
 ],
 "metadata": {
  "kernelspec": {
   "display_name": "Python 3.9.5 64-bit",
   "language": "python",
   "name": "python3"
  },
  "language_info": {
   "name": "python",
   "version": "3.9.5"
  },
  "orig_nbformat": 4,
  "vscode": {
   "interpreter": {
    "hash": "59e31d40cfd4d7badcf8bdb7937b7ac0ef37af6901e1d4ea6603355f54ea40e9"
   }
  }
 },
 "nbformat": 4,
 "nbformat_minor": 2
}
